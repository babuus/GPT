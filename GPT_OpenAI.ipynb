{
  "nbformat": 4,
  "nbformat_minor": 0,
  "metadata": {
    "colab": {
      "name": "GPT_OpenAI.ipynb",
      "provenance": [],
      "collapsed_sections": [],
      "authorship_tag": "ABX9TyM8/5yh76cAUBBgU3qmdapn",
      "include_colab_link": true
    },
    "kernelspec": {
      "name": "python3",
      "display_name": "Python 3"
    },
    "language_info": {
      "name": "python"
    }
  },
  "cells": [
    {
      "cell_type": "markdown",
      "metadata": {
        "id": "view-in-github",
        "colab_type": "text"
      },
      "source": [
        "<a href=\"https://colab.research.google.com/github/babuus/GPT/blob/master/GPT_OpenAI.ipynb\" target=\"_parent\"><img src=\"https://colab.research.google.com/assets/colab-badge.svg\" alt=\"Open In Colab\"/></a>"
      ]
    },
    {
      "cell_type": "code",
      "source": [
        "import pandas as pd\n",
        "import nltk\n",
        "import html\n",
        "import openai\n",
        "import os"
      ],
      "metadata": {
        "id": "B1PQWb0DY2GQ"
      },
      "execution_count": 13,
      "outputs": []
    },
    {
      "cell_type": "code",
      "source": [
        "df = pd.read_excel(\"./Data/MRP Latest Shoe Taxonomy Sheet_Batch 3.xlsx\")\n",
        "df.shape"
      ],
      "metadata": {
        "colab": {
          "base_uri": "https://localhost:8080/"
        },
        "id": "BFwN9crjN3Ne",
        "outputId": "bae175ae-d6dd-46e5-c770-febe7823eb9c"
      },
      "execution_count": 53,
      "outputs": [
        {
          "output_type": "execute_result",
          "data": {
            "text/plain": [
              "(4688, 24)"
            ]
          },
          "metadata": {},
          "execution_count": 53
        }
      ]
    },
    {
      "cell_type": "code",
      "source": [
        "df.info()"
      ],
      "metadata": {
        "colab": {
          "base_uri": "https://localhost:8080/"
        },
        "id": "xPFAzj1RvZly",
        "outputId": "3053eabc-c82a-4d39-b1d3-e9a93c45e992"
      },
      "execution_count": 3,
      "outputs": [
        {
          "output_type": "stream",
          "name": "stdout",
          "text": [
            "<class 'pandas.core.frame.DataFrame'>\n",
            "RangeIndex: 4688 entries, 0 to 4687\n",
            "Data columns (total 24 columns):\n",
            " #   Column                  Non-Null Count  Dtype  \n",
            "---  ------                  --------------  -----  \n",
            " 0   S.No                    4688 non-null   int64  \n",
            " 1   gsn                     4688 non-null   int64  \n",
            " 2   website                 4688 non-null   object \n",
            " 3   Prd_Title               4687 non-null   object \n",
            " 4   Prav_Style Code         3145 non-null   object \n",
            " 5   Prav_Style Code.1       4687 non-null   object \n",
            " 6   Prd_URL                 4686 non-null   object \n",
            " 7   Primary Colour          4688 non-null   object \n",
            " 8   Secondry colour         4123 non-null   object \n",
            " 9   Use                     4688 non-null   object \n",
            " 10  Category/Style/Type     4688 non-null   object \n",
            " 11  Range/Silhouette/Style  4688 non-null   object \n",
            " 12  Collection              16 non-null     object \n",
            " 13  Upper Material          4688 non-null   object \n",
            " 14  Sole Material           4688 non-null   object \n",
            " 15  Toe Shape               4688 non-null   object \n",
            " 16  Seasonal Items          4687 non-null   object \n",
            " 17  Occasion                4688 non-null   object \n",
            " 18  Fastening               4688 non-null   object \n",
            " 19  Heel Type               4676 non-null   object \n",
            " 20  Heel Height             2 non-null      object \n",
            " 21  release_date            5 non-null      object \n",
            " 22  Year Launched           7 non-null      float64\n",
            " 23  comment                 34 non-null     object \n",
            "dtypes: float64(1), int64(2), object(21)\n",
            "memory usage: 879.1+ KB\n"
          ]
        }
      ]
    },
    {
      "cell_type": "code",
      "source": [
        "count = 0\n",
        "dt = []\n",
        "for index, row in df.iterrows():\n",
        "  if type(row['Prav_Style Code']) is str and \"Product details\" not in row['Prav_Style Code'] and type(row[\"Prd_Title\"]) is str:\n",
        "    count = count + 1\n",
        "    desc = html.unescape(row['Prav_Style Code'])\n",
        "    desc = desc.split(\"|\")[0].split(\"Product Code\")[0]\n",
        "    # df.dropna(subset = [\"Heel Type\"], inplace=True)\n",
        "    print(count, \".\", row[\"Prd_Title\"])\n",
        "    print(desc)\n",
        "    try:\n",
        "      dt.append({\"prompt\":row[\"Prd_Title\"]+\"\\n\"+row[\"Primary Colour\"]+\"\\n\"+row[\"Upper Material\"]+\"\\n\"+\n",
        "                 row[\"Sole Material\"]+\"\\n\"+row[\"Toe Shape\"]+\"\\n\"+row[\"Heel Type\"]+\"\\n\"+row[\"Fastening\"]+\"\\n\"+\n",
        "                 row[\"Use\"]+\"\\n\"+ row[\"Category/Style/Type\"]+\"\\n\"+row[\"Occasion\"]+\"\\n\\n###\\n\\n\", \n",
        "                 \"completion\":desc})\n",
        "    except:\n",
        "      pass\n",
        "    # if count == 12:\n",
        "    #   break;"
      ],
      "metadata": {
        "id": "SV3oGFbsQ87j"
      },
      "execution_count": null,
      "outputs": []
    },
    {
      "cell_type": "code",
      "source": [
        "#Storing df as json line\n",
        "df2 = pd.DataFrame(dt)\n",
        "data = df2.to_json(orient=\"records\", lines=True)\n",
        "print(data)\n",
        "with open('./Data/GPT_Product_Desc.jsonl', 'w') as f:\n",
        "    f.write(data)"
      ],
      "metadata": {
        "id": "xQF3T5OZtJ5_"
      },
      "execution_count": null,
      "outputs": []
    },
    {
      "cell_type": "code",
      "source": [
        "#Uploading jsonl to openai\n",
        "openai.api_key = os.getenv(\"OPENAI_API_KEY\") #getting OPENAI_API_Key from env variables\n",
        "openai.File.create(\n",
        "  file=open(\"./Data/GPT_Product_Desc.jsonl\"),\n",
        "  purpose='fine-tune'\n",
        ")"
      ],
      "metadata": {
        "colab": {
          "base_uri": "https://localhost:8080/"
        },
        "id": "8vgE8XU4J74L",
        "outputId": "294474a6-0643-4372-9ff9-6c3c77a138f1"
      },
      "execution_count": 16,
      "outputs": [
        {
          "output_type": "execute_result",
          "data": {
            "text/plain": [
              "<File file id=file-OlHClowEjzlQYFcesmb17ml3 at 0x216586ba540> JSON: {\n",
              "  \"bytes\": 1612072,\n",
              "  \"created_at\": 1641454224,\n",
              "  \"filename\": \"GPT_Product_Desc.jsonl\",\n",
              "  \"id\": \"file-OlHClowEjzlQYFcesmb17ml3\",\n",
              "  \"object\": \"file\",\n",
              "  \"purpose\": \"fine-tune\",\n",
              "  \"status\": \"uploaded\",\n",
              "  \"status_details\": null\n",
              "}"
            ]
          },
          "metadata": {},
          "execution_count": 16
        }
      ]
    },
    {
      "cell_type": "code",
      "source": [
        "# Helps finetune model with uploaded file\n",
        "openai.FineTune.create(training_file=\"file-OlHClowEjzlQYFcesmb17ml3\", model=\"ada\")"
      ],
      "metadata": {
        "id": "8CHCzFuEJ71r"
      },
      "execution_count": null,
      "outputs": []
    },
    {
      "cell_type": "code",
      "source": [
        "# List all the fine tuned model\n",
        "openai.FineTune.list_events(id=\"ft-iyCoXynHSHe41ccMITygi2kr\")"
      ],
      "metadata": {
        "id": "U87mRREhJ7p2"
      },
      "execution_count": null,
      "outputs": []
    },
    {
      "cell_type": "code",
      "source": [
        "openai.FineTune.list()"
      ],
      "metadata": {
        "id": "1aWrIZaImaSo"
      },
      "execution_count": null,
      "outputs": []
    },
    {
      "cell_type": "markdown",
      "source": [
        "### **Shoes**"
      ],
      "metadata": {
        "id": "mcDPqgVc5bVS"
      }
    },
    {
      "cell_type": "code",
      "source": [
        "# Input params to pass to get the description\n",
        "Code = \"Kari in Black Flats\"\n",
        "Colour = \"Black\"\n",
        "Material = \"PU Leather\"\n",
        "Sole_material = \"Nubuck Sheet\"\n",
        "Toe_Shape = \" \"\n",
        "Heel_Type = \"Cushioned Flat\"\n",
        "Fastening = \"Slip on\"\n",
        "use = \"Lifestyle\"\n",
        "Category_Style_Type = \"Sneakers\"\n",
        "Occasion = \"Casual\""
      ],
      "metadata": {
        "id": "1uwg5KjQ_md8"
      },
      "execution_count": 50,
      "outputs": []
    },
    {
      "cell_type": "code",
      "source": [
        "# completion request to openai\n",
        "response = openai.Completion.create(\n",
        "  model=\"ada:ft-personal-2022-01-06-08-09-37\",\n",
        "  # prompt=\"Nike Tailwind 79\\nGrey\\nFabric:Mesh:Suede\\nRubber\\nRound\\nNormal\\nLace\\nLifestyle\\nSneakers\\nCasual\\n\\n###\\n\\n\",\n",
        "  prompt= Code+\"\\n\"+Colour+\"\\n\"+Material+\"\\n\"+Sole_material+\"\\n\"+Toe_Shape+Heel_Type+\"\\n\"+Fastening+\"\\n\"+use+\"\\n\"+Category_Style_Type+\"\\n\"+Occasion+\"\\n\\n###\\n\\n\",\n",
        "  temperature=0.7,\n",
        "  # max_tokens=64,\n",
        "  top_p=1,\n",
        "  frequency_penalty=0,\n",
        "  presence_penalty=0\n",
        ")"
      ],
      "metadata": {
        "id": "1qLuPUJ8wRWI"
      },
      "execution_count": 46,
      "outputs": []
    },
    {
      "cell_type": "code",
      "source": [
        "response"
      ],
      "metadata": {
        "colab": {
          "base_uri": "https://localhost:8080/"
        },
        "id": "-jp05nspdrsn",
        "outputId": "d7da7f30-43b0-4dac-bd41-75b550f9802b"
      },
      "execution_count": 47,
      "outputs": [
        {
          "output_type": "execute_result",
          "data": {
            "text/plain": [
              "<OpenAIObject text_completion id=cmpl-4NKkdMqMZIJ4aYNlMOaM4ECHTrfpq at 0x216580e5270> JSON: {\n",
              "  \"choices\": [\n",
              "    {\n",
              "      \"finish_reason\": \"length\",\n",
              "      \"index\": 0,\n",
              "      \"logprobs\": null,\n",
              "      \"text\": \"Converse Kari in Black Flats. The quintessential Converse style,\"\n",
              "    }\n",
              "  ],\n",
              "  \"created\": 1641466659,\n",
              "  \"id\": \"cmpl-4NKkdMqMZIJ4aYNlMOaM4ECHTrfpq\",\n",
              "  \"model\": \"ada:ft-personal-2022-01-06-08-09-37\",\n",
              "  \"object\": \"text_completion\"\n",
              "}"
            ]
          },
          "metadata": {},
          "execution_count": 47
        }
      ]
    },
    {
      "cell_type": "code",
      "source": [
        "response.choices[0].text"
      ],
      "metadata": {
        "colab": {
          "base_uri": "https://localhost:8080/"
        },
        "id": "h7dKSXmKgN_C",
        "outputId": "70e2c00e-cb56-447f-bc70-969bee1f1b16"
      },
      "execution_count": 41,
      "outputs": [
        {
          "output_type": "execute_result",
          "data": {
            "text/plain": [
              "'\\n\\n###\\n\\nA sneaker that was first released in ’87,'"
            ]
          },
          "metadata": {},
          "execution_count": 41
        }
      ]
    },
    {
      "cell_type": "code",
      "source": [
        "# sample output 1\n",
        "wrd = \"\"\"A legend on the streets, the Tailwind 79 makes a welcome return this season,\n",
        "bringing its chunky silhouette back to its roots and bringing to light the original’s hidden ace.\n",
        "Wrapped in cool shades with a chunky rubber outsole, the sneaker shows off all of its original details, boasting the\"\"\"\n",
        "\n",
        "# sample output 2\n",
        "wrd = \"\"\"FOR SPEED. The Nike Tailwind 79 boasts a lightweight upper and breathable mesh in the upper for a fast feel andYNike Air propulsive cushioning. \n",
        "The round nubuck heel and low-cut collar provide ease of entry without compromising comfort. \n",
        "Benefits Low-cut collar provides ease of entry.\"\"\""
      ],
      "metadata": {
        "id": "v2fTmMgggiPE"
      },
      "execution_count": 37,
      "outputs": []
    },
    {
      "cell_type": "code",
      "source": [
        "len(word_tokenize(wrd))"
      ],
      "metadata": {
        "colab": {
          "base_uri": "https://localhost:8080/"
        },
        "id": "ULJs-NsmifIw",
        "outputId": "38531e34-15fa-448a-8da9-3b2b52950b42"
      },
      "execution_count": 38,
      "outputs": [
        {
          "output_type": "execute_result",
          "data": {
            "text/plain": [
              "57"
            ]
          },
          "metadata": {},
          "execution_count": 38
        }
      ]
    },
    {
      "cell_type": "code",
      "source": [
        ""
      ],
      "metadata": {
        "id": "vzV5H8JGkmRk"
      },
      "execution_count": null,
      "outputs": []
    }
  ]
}